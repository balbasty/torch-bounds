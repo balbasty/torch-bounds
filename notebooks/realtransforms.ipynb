{
 "cells": [
  {
   "cell_type": "markdown",
   "metadata": {},
   "source": [
    "This notebook shows how to upsample a signal by performing zero padding\n",
    "in frequency space, using either the FFT, DCT or DST.\n",
    "\n",
    "By looking at the upsampled signal, the implicit boundary condition of \n",
    "each transform is clear:\n",
    "- the FFT assumes circulant boundaries, and the upsampled signal wraps\n",
    "  around the field of view.\n",
    "- the DCT-2 assumes reflective boundaries, and the upsampled signal has\n",
    "  zero derivatives at the boundaries (Neumann).\n",
    "- the DST-2 assumes antireflective boundaries, and the upsampled signal\n",
    "  has zero values at the boundaries (Dirichlet)."
   ]
  },
  {
   "cell_type": "code",
   "execution_count": 15,
   "metadata": {},
   "outputs": [],
   "source": [
    "import torch\n",
    "from torch.fft import fftn, ifftn, fftshift, ifftshift\n",
    "from bounds import dctn2, dstn2, idctn2, idstn2, pad\n",
    "import matplotlib.pyplot as plt"
   ]
  },
  {
   "cell_type": "code",
   "execution_count": 19,
   "metadata": {},
   "outputs": [
    {
     "data": {
      "image/png": "[encoded data removed]",
      "text/plain": [
       "<Figure size 640x480 with 4 Axes>"
      ]
     },
     "metadata": {},
     "output_type": "display_data"
    }
   ],
   "source": [
    "# Spatial signal\n",
    "torch.manual_seed(1234)\n",
    "x = torch.randn([4, 4])\n",
    "\n",
    "# Fourier coefficients\n",
    "k = ifftshift(fftn(fftshift(x, dim=[0, 1]), dim=[0, 1]), dim=[0, 1])\n",
    "\n",
    "# Zero-padded coefficients\n",
    "kz = pad(k, [14, 14], side='both')\n",
    "\n",
    "# Back to spatial signal\n",
    "y = ifftshift(ifftn(fftshift(kz, dim=[0, 1]), dim=[0, 1]), dim=[0, 1]).real\n",
    "\n",
    "plt.subplot(1, 4, 1)\n",
    "plt.imshow(x)\n",
    "plt.axis('off')\n",
    "plt.subplot(1, 4, 2)\n",
    "plt.imshow(k.real)\n",
    "plt.axis('off')\n",
    "plt.subplot(1, 4, 3)\n",
    "plt.imshow(kz.real)\n",
    "plt.axis('off')\n",
    "plt.subplot(1, 4, 4)\n",
    "plt.imshow(y)\n",
    "plt.axis('off')\n",
    "plt.show()"
   ]
  },
  {
   "cell_type": "code",
   "execution_count": 20,
   "metadata": {},
   "outputs": [
    {
     "data": {
      "image/png": "[encoded data removed]",
      "text/plain": [
       "<Figure size 640x480 with 4 Axes>"
      ]
     },
     "metadata": {},
     "output_type": "display_data"
    }
   ],
   "source": [
    "# Spatial signal\n",
    "torch.manual_seed(1234)\n",
    "x = torch.randn([4, 4])\n",
    "\n",
    "# Fourier coefficients\n",
    "k = dctn2(x, dim=[0, 1])\n",
    "\n",
    "# Zero-padded coefficients\n",
    "kz = pad(k, [28, 28], side='post')\n",
    "\n",
    "# Back to spatial signal\n",
    "y = idctn2(kz, dim=[0, 1])\n",
    "\n",
    "plt.subplot(1, 4, 1)\n",
    "plt.imshow(x)\n",
    "plt.axis('off')\n",
    "plt.subplot(1, 4, 2)\n",
    "plt.imshow(k)\n",
    "plt.axis('off')\n",
    "plt.subplot(1, 4, 3)\n",
    "plt.imshow(kz)\n",
    "plt.axis('off')\n",
    "plt.subplot(1, 4, 4)\n",
    "plt.imshow(y)\n",
    "plt.axis('off')\n",
    "plt.show()"
   ]
  },
  {
   "cell_type": "code",
   "execution_count": 21,
   "metadata": {},
   "outputs": [
    {
     "data": {
      "image/png": "[encoded data removed]",
      "text/plain": [
       "<Figure size 640x480 with 4 Axes>"
      ]
     },
     "metadata": {},
     "output_type": "display_data"
    }
   ],
   "source": [
    "# Spatial signal\n",
    "torch.manual_seed(1234)\n",
    "x = torch.randn([4, 4])\n",
    "\n",
    "# Fourier coefficients\n",
    "k = dstn2(x, dim=[0, 1])\n",
    "\n",
    "# Zero-padded coefficients\n",
    "kz = pad(k, [28, 28], side='post')\n",
    "\n",
    "# Back to spatial signal\n",
    "y = idstn2(kz, dim=[0, 1])\n",
    "\n",
    "plt.subplot(1, 4, 1)\n",
    "plt.imshow(x)\n",
    "plt.axis('off')\n",
    "plt.subplot(1, 4, 2)\n",
    "plt.imshow(k)\n",
    "plt.axis('off')\n",
    "plt.subplot(1, 4, 3)\n",
    "plt.imshow(kz)\n",
    "plt.axis('off')\n",
    "plt.subplot(1, 4, 4)\n",
    "plt.imshow(y)\n",
    "plt.axis('off')\n",
    "plt.show()"
   ]
  }
 ],
 "metadata": {
  "kernelspec": {
   "display_name": "interpol",
   "language": "python",
   "name": "python3"
  },
  "language_info": {
   "codemirror_mode": {
    "name": "ipython",
    "version": 3
   },
   "file_extension": ".py",
   "mimetype": "text/x-python",
   "name": "python",
   "nbconvert_exporter": "python",
   "pygments_lexer": "ipython3",
   "version": "3.12.2"
  }
 },
 "nbformat": 4,
 "nbformat_minor": 2
}
